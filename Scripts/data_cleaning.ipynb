{
  "nbformat": 4,
  "nbformat_minor": 0,
  "metadata": {
    "colab": {
      "provenance": [],
      "authorship_tag": "ABX9TyMm0vfgvWRr9YMweAPA1Mq2",
      "include_colab_link": true
    },
    "kernelspec": {
      "name": "python3",
      "display_name": "Python 3"
    },
    "language_info": {
      "name": "python"
    }
  },
  "cells": [
    {
      "cell_type": "markdown",
      "metadata": {
        "id": "view-in-github",
        "colab_type": "text"
      },
      "source": [
        "<a href=\"https://colab.research.google.com/github/YacineBenameur/Data-Jobs-Analysis-in-France/blob/main/data_cleaning.ipynb\" target=\"_parent\"><img src=\"https://colab.research.google.com/assets/colab-badge.svg\" alt=\"Open In Colab\"/></a>"
      ]
    },
    {
      "cell_type": "markdown",
      "source": [
        "#Specify openai api key"
      ],
      "metadata": {
        "id": "ooZAY69hRvaA"
      }
    },
    {
      "cell_type": "code",
      "source": [
        "openai_api_key = \"YOUR_openai_api_key\""
      ],
      "metadata": {
        "id": "SlgbdLYmRwXJ"
      },
      "execution_count": null,
      "outputs": []
    },
    {
      "cell_type": "markdown",
      "source": [
        "# Import libraries"
      ],
      "metadata": {
        "id": "sE_TsqmgR7Bo"
      }
    },
    {
      "cell_type": "code",
      "execution_count": null,
      "metadata": {
        "id": "XAUPqnh8to9O"
      },
      "outputs": [],
      "source": [
        "\n",
        "import pandas as pd\n",
        "import plotly.express as px\n",
        "data_path = 'dataset.csv'\n",
        "data = pd.read_csv(data_path)"
      ]
    },
    {
      "cell_type": "markdown",
      "source": [
        "# Cleaning"
      ],
      "metadata": {
        "id": "auXeKnflXSfz"
      }
    },
    {
      "cell_type": "markdown",
      "source": [
        "## Basic cleaning"
      ],
      "metadata": {
        "id": "9cwx-s2mRG-H"
      }
    },
    {
      "cell_type": "code",
      "source": [
        "# Convert publication_date to datetime\n",
        "data['publication_date'] = pd.to_datetime(data['publication_date'], format='%d/%m/%Y', errors='coerce')\n",
        "\n",
        "# Filter out data before November 22, 2024\n",
        "# Deletes 3 jobs\n",
        "data = data[data['publication_date'] >= '2024-11-22']\n",
        "\n",
        "# Replace rows where 'contract_type' contains 'Freelance' or 'Permanent'\n",
        "data['contract_type'] = data['contract_type'].str.replace(r'.*Freelance.*', 'Freelance', regex=True)\n",
        "data['contract_type'] = data['contract_type'].str.replace(r'.*Permanent.*', 'CDI', regex=True)\n",
        "\n",
        "# Remove rows where 'contract_type' contains 'Stagiaire'\n",
        "data = data[~data['contract_type'].str.contains('Stagiaire', na=False)]\n",
        "\n",
        "# Replace NaN values in 'salaire_min' with values from 'salaire_max' and vice versa\n",
        "data['salaire_min'] = data['salaire_min'].fillna(data['salaire_max'])\n",
        "data['salaire_max'] = data['salaire_max'].fillna(data['salaire_min'])\n",
        "\n",
        "# Add average salary\n",
        "data['avg_salary'] = data[['salaire_min', 'salaire_max']].mean(axis=1)\n",
        "\n",
        "# Filter the dataset to exclude rows where 'annual' is True, 'contract_type' is 'CDI', and 'avg_salary' is <= 2000\n",
        "# Deletes 15 jobs\n",
        "data = data[~((data['annual'] == True) & (data['contract_type'] == 'CDI') & (data['salaire_min'] <= 10000))]\n",
        "\n",
        "# Remove rows where 'contract_type' is 'Freelance' and 'avg_salary' is greater than 10000\n",
        "data = data[~((data['contract_type'] == 'Freelance') & (data['avg_salary'] > 10000))]\n",
        "\n",
        "\n"
      ],
      "metadata": {
        "id": "6cA_cTfBXRuG"
      },
      "execution_count": null,
      "outputs": []
    },
    {
      "cell_type": "markdown",
      "source": [
        "## Sectors standardization"
      ],
      "metadata": {
        "id": "8HADIEGlRJhC"
      }
    },
    {
      "cell_type": "code",
      "source": [
        "# Define mapping\n",
        "sector_mapping = {\n",
        "    'BTP': 'Construction',\n",
        "    'Construction': 'Construction',\n",
        "    'Aéronautique': 'Aerospace',\n",
        "    'Aerospace': 'Aerospace',\n",
        "    'Auto': 'Automotive',\n",
        "    'Automotive': 'Automotive',\n",
        "    'Automobile': 'Automotive',\n",
        "    'Informatique': 'IT',\n",
        "    'IT': 'IT',\n",
        "    'Technology': 'Technology',\n",
        "    'Tech': 'Technology',\n",
        "    'Media': 'Media',\n",
        "    'Média': 'Media',\n",
        "    'Healthcare': 'Health',\n",
        "    'Santé': 'Health',\n",
        "    'Telecom': 'Telecommunications',\n",
        "    'Telecommunications': 'Telecommunications',\n",
        "    'Agriculture': 'Agriculture',\n",
        "    'Agro-alimentaire': 'Agro-food',\n",
        "    'Agroalimentaire': 'Agro-food',\n",
        "    'Agro-food': 'Agro-food',\n",
        "    'Energie': 'Energy',\n",
        "    'Energy': 'Energy',\n",
        "    'Environment': 'Environment',\n",
        "    'Environmental': 'Environment',\n",
        "    'Tourism': 'Tourism',\n",
        "    'Tourisme': 'Tourism',\n",
        "    'Education': 'Education',\n",
        "    'Teaching': 'Education',\n",
        "    'Enseignement': 'Education',\n",
        "    'Pharmaceutical': 'Pharmaceuticals',\n",
        "    'Pharmaceuticals': 'Pharmaceuticals',\n",
        "    'Real Estate': 'Real Estate',\n",
        "    'Immobilier': 'Real Estate',\n",
        "    'Industry': 'Industry',\n",
        "    'Industrie': 'Industry',\n",
        "    'Public': 'Public',\n",
        "    'Service public': 'Public',\n",
        "    'Consulting': 'Consulting',\n",
        "    'Logistics': 'Logistics',\n",
        "    'Defense': 'Defense',\n",
        "    'Research': 'Research',\n",
        "    'Engineering': 'Engineering',\n",
        "    'Internet': 'Internet',\n",
        "    'Data': 'Data',\n",
        "    'Commerce': 'Commerce',\n",
        "    'Distribution': 'Commerce',\n",
        "    'Manufacturing': 'Manufacturing',\n",
        "    'Transport': 'Transport',\n",
        "    'Food': 'Agro-food'\n",
        "}\n",
        "\n",
        "# Standardize the sector column\n",
        "data['sector'] = data['sector'].map(sector_mapping)\n"
      ],
      "metadata": {
        "id": "v7taJ5WgRQ2X"
      },
      "execution_count": null,
      "outputs": []
    },
    {
      "cell_type": "markdown",
      "source": [
        "## Categorize data jobs"
      ],
      "metadata": {
        "id": "g1y4uPI2uLQL"
      }
    },
    {
      "cell_type": "code",
      "source": [
        "from pydantic import BaseModel, Field\n",
        "from typing import List, Optional\n",
        "from openai import OpenAI\n",
        "import pandas as pd\n",
        "\n",
        "# Define the schema for the output\n",
        "class JobCategorization(BaseModel):\n",
        "    title: str\n",
        "    concepts: Optional[List[str]] = []\n",
        "    categories: List[str] = Field(..., description=\"List of applicable categories for the job\")\n",
        "\n",
        "# Function to query OpenAI API\n",
        "def get_openai_categorization(client: OpenAI, title: str, concepts: Optional[List[str]]) -> JobCategorization:\n",
        "    concepts_str = \", \".join(concepts) if concepts else \"\"\n",
        "    messages = [\n",
        "        {\n",
        "            \"role\": \"system\",\n",
        "            \"content\": \"You are a helpful assistant that categorizes job titles and associated concepts into predefined categories.\"\n",
        "        },\n",
        "        {\n",
        "            \"role\": \"user\",\n",
        "            \"content\": f\"\"\"\n",
        "Catégories finales pour les métiers liés à la data :\n",
        "\n",
        "Data Analyst\n",
        "Inclut également les rôles liés à la Business Intelligence (BI).\n",
        "Exemples :\n",
        "\"Data Analyst\", \"Business Data Analyst\", \"BI Developer\".\n",
        "\n",
        "Data Scientist\n",
        "Inclut les rôles liés au machine learning et à l’intelligence artificielle (ML Engineer).\n",
        "Exemples :\n",
        "\"Data Scientist\", \"Machine Learning Engineer\", \"AI Researcher\".\n",
        "\n",
        "Data Engineer\n",
        "Gestion des pipelines, infrastructure de données, ETL, et architecture.\n",
        "Exemples :\n",
        "\"Data Engineer\", \"Big Data Engineer\", \"Architecte Data\".\n",
        "\n",
        "Project Manager (Data)\n",
        "Inclut les rôles de chef de projet et de product owner en data.\n",
        "Exemples :\n",
        "\"Chef de Projet Data\", \"Product Owner Data\", \"Data Project Manager\".\n",
        "\n",
        "Data Governance & Quality\n",
        "Pour les métiers axés sur la gouvernance, la gestion, et la qualité des données.\n",
        "Exemples :\n",
        "\"Data Quality Manager\", \"Consultant Data Gouvernance\", \"Data Steward\".\n",
        "\n",
        "Other\n",
        "Tous les rôles non liés à la data.\n",
        "\n",
        "Basé sur le titre du poste et les concepts associés, catégorisez le poste dans une ou plusieurs des catégories ci-dessus. Certains rôles peuvent chevaucher plusieurs catégories.\n",
        "\n",
        "Title: {title}\n",
        "Concepts: {concepts_str}\n",
        "\n",
        "Retournez les catégories sous forme d'un JSON strictement formaté :\n",
        "{{\n",
        "    \"title\": \"{title}\",\n",
        "    \"concepts\": [{concepts_str}],\n",
        "    \"categories\": [\"Category1\", \"Category2\"]\n",
        "}}\n",
        "\"\"\"\n",
        "        }\n",
        "    ]\n",
        "\n",
        "    response = client.chat.completions.create(\n",
        "        model=\"gpt-4o-mini\",\n",
        "        messages=messages\n",
        "    )\n",
        "\n",
        "    # Access the content of the response correctly\n",
        "    structured_data = response.choices[0].message.content.strip(\"```json\").strip(\"```\").strip()\n",
        "    return JobCategorization.parse_raw(structured_data)\n",
        "\n",
        "# Function to process a DataFrame\n",
        "def categorize_jobs(client: OpenAI, data: pd.DataFrame) -> pd.DataFrame:\n",
        "    def categorize_row(row):\n",
        "        title = row['title']\n",
        "        concepts = row['concepts'] if isinstance(row['concepts'], list) else []\n",
        "        job_categorization = get_openai_categorization(client, title, concepts)\n",
        "        return job_categorization.categories\n",
        "\n",
        "    data['categories'] = data.apply(categorize_row, axis=1)\n",
        "    return data\n",
        "\n",
        "# Example usage with your OpenAI client\n",
        "client = OpenAI(api_key=openai_api_key)\n",
        "\n",
        "\n"
      ],
      "metadata": {
        "id": "INaXUXxAuPxB"
      },
      "execution_count": null,
      "outputs": []
    },
    {
      "cell_type": "code",
      "source": [
        "categorized_data = categorize_jobs(client, data)\n",
        "categorized_data\n"
      ],
      "metadata": {
        "id": "kd4VqyN4ujJA"
      },
      "execution_count": null,
      "outputs": []
    },
    {
      "cell_type": "markdown",
      "source": [
        "# Save cleaned data"
      ],
      "metadata": {
        "id": "01eXh8yyC2f3"
      }
    },
    {
      "cell_type": "code",
      "source": [
        "categorized_data.to_csv(\"cleaned_dataset.csv\", index=False)\n"
      ],
      "metadata": {
        "id": "wHDEg6C288XT"
      },
      "execution_count": null,
      "outputs": []
    },
    {
      "cell_type": "code",
      "source": [
        "# Calculate the ratio of rows with \"Other\" as a category\n",
        "total_rows = len(data)\n",
        "other_rows = data['categories'].apply(lambda x: \"Other\" in x).sum()\n",
        "ratio_other = other_rows / total_rows\n",
        "\n",
        "print(f\"Ratio of rows with 'Other' as a category: {ratio_other:.2%}\")\n"
      ],
      "metadata": {
        "id": "rUO37GBy9scc"
      },
      "execution_count": null,
      "outputs": []
    }
  ]
}
